{
 "cells": [
  {
   "cell_type": "code",
   "execution_count": 2,
   "id": "d7118f8e-57aa-4378-9f14-aed4ad9d2e4c",
   "metadata": {
    "collapsed": true,
    "execution": {
     "iopub.execute_input": "2022-12-13T16:49:46.282674Z",
     "iopub.status.busy": "2022-12-13T16:49:46.282269Z",
     "iopub.status.idle": "2022-12-13T16:50:08.179111Z",
     "shell.execute_reply": "2022-12-13T16:50:08.177114Z",
     "shell.execute_reply.started": "2022-12-13T16:49:46.282638Z"
    },
    "jupyter": {
     "outputs_hidden": true
    },
    "tags": []
   },
   "outputs": [
    {
     "name": "stdout",
     "output_type": "stream",
     "text": [
      "Collecting rss-parser\n",
      "  Downloading rss_parser-0.2.4-py3-none-any.whl (16 kB)\n",
      "Requirement already satisfied: requests>=2.24.0 in /home/fedorov/anaconda3/envs/newconda/lib/python3.10/site-packages (from rss-parser) (2.28.1)\n",
      "Collecting bs4>=0.0.1\n",
      "  Using cached bs4-0.0.1.tar.gz (1.1 kB)\n",
      "  Preparing metadata (setup.py) ... \u001b[?25ldone\n",
      "\u001b[?25hCollecting pytest<8.0.0,>=7.1.2\n",
      "  Downloading pytest-7.2.0-py3-none-any.whl (316 kB)\n",
      "\u001b[2K     \u001b[90m━━━━━━━━━━━━━━━━━━━━━━━━━━━━━━━━━━━━━\u001b[0m \u001b[32m316.8/316.8 kB\u001b[0m \u001b[31m968.4 kB/s\u001b[0m eta \u001b[36m0:00:00\u001b[0ma \u001b[36m0:00:01\u001b[0m\n",
      "\u001b[?25hCollecting pydantic>=1.6.1\n",
      "  Downloading pydantic-1.10.2-cp310-cp310-manylinux_2_17_x86_64.manylinux2014_x86_64.whl (12.8 MB)\n",
      "\u001b[2K     \u001b[90m━━━━━━━━━━━━━━━━━━━━━━━━━━━━━━━━━━━━━━━━\u001b[0m \u001b[32m12.8/12.8 MB\u001b[0m \u001b[31m1.2 MB/s\u001b[0m eta \u001b[36m0:00:00\u001b[0m00:01\u001b[0m00:01\u001b[0m\n",
      "\u001b[?25hRequirement already satisfied: lxml>=4.6.5 in /home/fedorov/anaconda3/envs/newconda/lib/python3.10/site-packages (from rss-parser) (4.9.1)\n",
      "Requirement already satisfied: beautifulsoup4 in /home/fedorov/anaconda3/envs/newconda/lib/python3.10/site-packages (from bs4>=0.0.1->rss-parser) (4.11.1)\n",
      "Requirement already satisfied: typing-extensions>=4.1.0 in /home/fedorov/anaconda3/envs/newconda/lib/python3.10/site-packages (from pydantic>=1.6.1->rss-parser) (4.3.0)\n",
      "Requirement already satisfied: packaging in /home/fedorov/anaconda3/envs/newconda/lib/python3.10/site-packages (from pytest<8.0.0,>=7.1.2->rss-parser) (21.3)\n",
      "Collecting pluggy<2.0,>=0.12\n",
      "  Downloading pluggy-1.0.0-py2.py3-none-any.whl (13 kB)\n",
      "Collecting exceptiongroup>=1.0.0rc8\n",
      "  Downloading exceptiongroup-1.0.4-py3-none-any.whl (14 kB)\n",
      "Requirement already satisfied: attrs>=19.2.0 in /home/fedorov/anaconda3/envs/newconda/lib/python3.10/site-packages (from pytest<8.0.0,>=7.1.2->rss-parser) (22.1.0)\n",
      "Collecting tomli>=1.0.0\n",
      "  Downloading tomli-2.0.1-py3-none-any.whl (12 kB)\n",
      "Collecting iniconfig\n",
      "  Using cached iniconfig-1.1.1-py2.py3-none-any.whl (5.0 kB)\n",
      "Requirement already satisfied: urllib3<1.27,>=1.21.1 in /home/fedorov/anaconda3/envs/newconda/lib/python3.10/site-packages (from requests>=2.24.0->rss-parser) (1.26.11)\n",
      "Requirement already satisfied: certifi>=2017.4.17 in /home/fedorov/anaconda3/envs/newconda/lib/python3.10/site-packages (from requests>=2.24.0->rss-parser) (2022.9.24)\n",
      "Requirement already satisfied: idna<4,>=2.5 in /home/fedorov/anaconda3/envs/newconda/lib/python3.10/site-packages (from requests>=2.24.0->rss-parser) (3.4)\n",
      "Requirement already satisfied: charset-normalizer<3,>=2 in /home/fedorov/anaconda3/envs/newconda/lib/python3.10/site-packages (from requests>=2.24.0->rss-parser) (2.1.1)\n",
      "Requirement already satisfied: soupsieve>1.2 in /home/fedorov/anaconda3/envs/newconda/lib/python3.10/site-packages (from beautifulsoup4->bs4>=0.0.1->rss-parser) (2.3.2.post1)\n",
      "Requirement already satisfied: pyparsing!=3.0.5,>=2.0.2 in /home/fedorov/anaconda3/envs/newconda/lib/python3.10/site-packages (from packaging->pytest<8.0.0,>=7.1.2->rss-parser) (3.0.9)\n",
      "Building wheels for collected packages: bs4\n",
      "  Building wheel for bs4 (setup.py) ... \u001b[?25ldone\n",
      "\u001b[?25h  Created wheel for bs4: filename=bs4-0.0.1-py3-none-any.whl size=1257 sha256=432883ef9ea0623347b17526c5c74c0f91a45898e86a91b2a8b00d9d246e4834\n",
      "  Stored in directory: /home/fedorov/.cache/pip/wheels/25/42/45/b773edc52acb16cd2db4cf1a0b47117e2f69bb4eb300ed0e70\n",
      "Successfully built bs4\n",
      "Installing collected packages: iniconfig, tomli, pydantic, pluggy, exceptiongroup, pytest, bs4, rss-parser\n",
      "Successfully installed bs4-0.0.1 exceptiongroup-1.0.4 iniconfig-1.1.1 pluggy-1.0.0 pydantic-1.10.2 pytest-7.2.0 rss-parser-0.2.4 tomli-2.0.1\n",
      "Note: you may need to restart the kernel to use updated packages.\n"
     ]
    }
   ],
   "source": [
    "pip install rss-parser"
   ]
  },
  {
   "cell_type": "code",
   "execution_count": 18,
   "id": "6a99891b-2767-477e-bcc4-bba3142fd564",
   "metadata": {
    "execution": {
     "iopub.execute_input": "2022-12-13T17:01:59.589219Z",
     "iopub.status.busy": "2022-12-13T17:01:59.588854Z",
     "iopub.status.idle": "2022-12-13T17:02:02.620112Z",
     "shell.execute_reply": "2022-12-13T17:02:02.619225Z",
     "shell.execute_reply.started": "2022-12-13T17:01:59.589192Z"
    },
    "tags": []
   },
   "outputs": [],
   "source": [
    "from rss_parser import Parser\n",
    "from requests import get\n",
    "import pandas as pd"
   ]
  },
  {
   "cell_type": "code",
   "execution_count": 33,
   "id": "b6538dd1-0077-4d6f-aead-72acd08efd96",
   "metadata": {
    "execution": {
     "iopub.execute_input": "2022-12-13T17:10:33.347826Z",
     "iopub.status.busy": "2022-12-13T17:10:33.347339Z",
     "iopub.status.idle": "2022-12-13T17:10:34.643072Z",
     "shell.execute_reply": "2022-12-13T17:10:34.642237Z",
     "shell.execute_reply.started": "2022-12-13T17:10:33.347789Z"
    },
    "tags": []
   },
   "outputs": [
    {
     "name": "stderr",
     "output_type": "stream",
     "text": [
      "/home/fedorov/anaconda3/envs/newconda/lib/python3.10/site-packages/bs4/__init__.py:435: MarkupResemblesLocatorWarning: The input looks more like a filename than markup. You may want to open this file and pass the filehandle into Beautiful Soup.\n",
      "  warnings.warn(\n"
     ]
    }
   ],
   "source": [
    "rss_url = \"https://feedforall.com/sample.xml\"\n",
    "rss_urls = [\"https://lenta.ru/rss/\", \"https://www.vedomosti.ru/rss/news\",\"https://tass.ru/rss/v2.xml\"]\n",
    "xmls = [ get(rss_url) for rss_url in rss_urls ]\n",
    "\n",
    "# Limit feed output to 5 items\n",
    "# To disable limit simply do not provide the argument or use None # limit=5,\n",
    "parsers = [ Parser(xml=xml.content,  ) for xml in xmls ]\n",
    "feeds = [parser.parse() for parser in parsers ]\n"
   ]
  },
  {
   "cell_type": "code",
   "execution_count": 34,
   "id": "c733b2b1-11db-4783-b524-59420115a121",
   "metadata": {
    "execution": {
     "iopub.execute_input": "2022-12-13T17:11:46.832136Z",
     "iopub.status.busy": "2022-12-13T17:11:46.830736Z",
     "iopub.status.idle": "2022-12-13T17:11:46.840032Z",
     "shell.execute_reply": "2022-12-13T17:11:46.838322Z",
     "shell.execute_reply.started": "2022-12-13T17:11:46.832082Z"
    },
    "tags": []
   },
   "outputs": [
    {
     "name": "stdout",
     "output_type": "stream",
     "text": [
      "title='Таксистов в Турции начнут обучать русскому языку' link='https://lenta.ru/news/2022/12/13/turkey_taxi/' publish_date='Tue, 13 Dec 2022 20:09:30 +0300' category='Путешествия' description='\\n    Таксистов в турецкой провинции Анталья начнут обучать иностранным языкам, в том числе русскому, для общения с клиентами. Отмечается, что в настоящее время они проходят курс по английскому в группах по 20 человек. Водителей учат базовым фразам, которые нужны при общении с туристами из разных стран. \\n  ' description_links=[] description_images=[] enclosure=None itunes=None other={}\n"
     ]
    }
   ],
   "source": [
    "print(feeds[0].feed[0])"
   ]
  },
  {
   "cell_type": "code",
   "execution_count": 35,
   "id": "a7ef5fbd-a364-4f08-a9c4-499cfe719559",
   "metadata": {
    "execution": {
     "iopub.execute_input": "2022-12-13T17:11:49.286008Z",
     "iopub.status.busy": "2022-12-13T17:11:49.284760Z",
     "iopub.status.idle": "2022-12-13T17:11:49.295540Z",
     "shell.execute_reply": "2022-12-13T17:11:49.293677Z",
     "shell.execute_reply.started": "2022-12-13T17:11:49.285954Z"
    },
    "tags": []
   },
   "outputs": [],
   "source": [
    "category = []\n",
    "publish_date = []\n",
    "rss_url = []\n",
    "for url_num, feed in enumerate(feeds):\n",
    "    for f in feed.feed:\n",
    "        # print(f.category)\n",
    "        category.append(f.category)\n",
    "        # print(f.publish_date)\n",
    "        publish_date.append(f.publish_date)\n",
    "        # print(rss_urls[url_num])\n",
    "        rss_url.append(rss_urls[url_num])  "
   ]
  },
  {
   "cell_type": "code",
   "execution_count": 36,
   "id": "05082087-a6ea-4bee-9149-7d30d97456a9",
   "metadata": {
    "execution": {
     "iopub.execute_input": "2022-12-13T17:11:56.261170Z",
     "iopub.status.busy": "2022-12-13T17:11:56.259909Z",
     "iopub.status.idle": "2022-12-13T17:11:56.286337Z",
     "shell.execute_reply": "2022-12-13T17:11:56.284426Z",
     "shell.execute_reply.started": "2022-12-13T17:11:56.261117Z"
    },
    "tags": []
   },
   "outputs": [
    {
     "data": {
      "text/html": [
       "<div>\n",
       "<style scoped>\n",
       "    .dataframe tbody tr th:only-of-type {\n",
       "        vertical-align: middle;\n",
       "    }\n",
       "\n",
       "    .dataframe tbody tr th {\n",
       "        vertical-align: top;\n",
       "    }\n",
       "\n",
       "    .dataframe thead th {\n",
       "        text-align: right;\n",
       "    }\n",
       "</style>\n",
       "<table border=\"1\" class=\"dataframe\">\n",
       "  <thead>\n",
       "    <tr style=\"text-align: right;\">\n",
       "      <th></th>\n",
       "      <th>category</th>\n",
       "      <th>publish_date</th>\n",
       "      <th>rss_url</th>\n",
       "    </tr>\n",
       "  </thead>\n",
       "  <tbody>\n",
       "    <tr>\n",
       "      <th>0</th>\n",
       "      <td>Путешествия</td>\n",
       "      <td>Tue, 13 Dec 2022 20:09:30 +0300</td>\n",
       "      <td>https://lenta.ru/rss/</td>\n",
       "    </tr>\n",
       "    <tr>\n",
       "      <th>1</th>\n",
       "      <td>Ценности</td>\n",
       "      <td>Tue, 13 Dec 2022 20:09:21 +0300</td>\n",
       "      <td>https://lenta.ru/rss/</td>\n",
       "    </tr>\n",
       "    <tr>\n",
       "      <th>2</th>\n",
       "      <td>Экономика</td>\n",
       "      <td>Tue, 13 Dec 2022 20:00:32 +0300</td>\n",
       "      <td>https://lenta.ru/rss/</td>\n",
       "    </tr>\n",
       "    <tr>\n",
       "      <th>3</th>\n",
       "      <td>Забота о себе</td>\n",
       "      <td>Tue, 13 Dec 2022 20:00:12 +0300</td>\n",
       "      <td>https://lenta.ru/rss/</td>\n",
       "    </tr>\n",
       "    <tr>\n",
       "      <th>4</th>\n",
       "      <td>Среда обитания</td>\n",
       "      <td>Tue, 13 Dec 2022 19:58:20 +0300</td>\n",
       "      <td>https://lenta.ru/rss/</td>\n",
       "    </tr>\n",
       "    <tr>\n",
       "      <th>...</th>\n",
       "      <td>...</td>\n",
       "      <td>...</td>\n",
       "      <td>...</td>\n",
       "    </tr>\n",
       "    <tr>\n",
       "      <th>489</th>\n",
       "      <td>Происшествия</td>\n",
       "      <td>Tue, 13 Dec 2022 18:37:06 +0300</td>\n",
       "      <td>https://tass.ru/rss/v2.xml</td>\n",
       "    </tr>\n",
       "    <tr>\n",
       "      <th>490</th>\n",
       "      <td>Экономика и бизнес</td>\n",
       "      <td>Tue, 13 Dec 2022 18:34:45 +0300</td>\n",
       "      <td>https://tass.ru/rss/v2.xml</td>\n",
       "    </tr>\n",
       "    <tr>\n",
       "      <th>491</th>\n",
       "      <td>Общество</td>\n",
       "      <td>Tue, 13 Dec 2022 18:33:05 +0300</td>\n",
       "      <td>https://tass.ru/rss/v2.xml</td>\n",
       "    </tr>\n",
       "    <tr>\n",
       "      <th>492</th>\n",
       "      <td>Экономика и бизнес</td>\n",
       "      <td>Tue, 13 Dec 2022 18:28:08 +0300</td>\n",
       "      <td>https://tass.ru/rss/v2.xml</td>\n",
       "    </tr>\n",
       "    <tr>\n",
       "      <th>493</th>\n",
       "      <td>Культура</td>\n",
       "      <td>Tue, 13 Dec 2022 18:26:51 +0300</td>\n",
       "      <td>https://tass.ru/rss/v2.xml</td>\n",
       "    </tr>\n",
       "  </tbody>\n",
       "</table>\n",
       "<p>494 rows × 3 columns</p>\n",
       "</div>"
      ],
      "text/plain": [
       "               category                     publish_date  \\\n",
       "0           Путешествия  Tue, 13 Dec 2022 20:09:30 +0300   \n",
       "1              Ценности  Tue, 13 Dec 2022 20:09:21 +0300   \n",
       "2             Экономика  Tue, 13 Dec 2022 20:00:32 +0300   \n",
       "3         Забота о себе  Tue, 13 Dec 2022 20:00:12 +0300   \n",
       "4        Среда обитания  Tue, 13 Dec 2022 19:58:20 +0300   \n",
       "..                  ...                              ...   \n",
       "489        Происшествия  Tue, 13 Dec 2022 18:37:06 +0300   \n",
       "490  Экономика и бизнес  Tue, 13 Dec 2022 18:34:45 +0300   \n",
       "491            Общество  Tue, 13 Dec 2022 18:33:05 +0300   \n",
       "492  Экономика и бизнес  Tue, 13 Dec 2022 18:28:08 +0300   \n",
       "493            Культура  Tue, 13 Dec 2022 18:26:51 +0300   \n",
       "\n",
       "                        rss_url  \n",
       "0         https://lenta.ru/rss/  \n",
       "1         https://lenta.ru/rss/  \n",
       "2         https://lenta.ru/rss/  \n",
       "3         https://lenta.ru/rss/  \n",
       "4         https://lenta.ru/rss/  \n",
       "..                          ...  \n",
       "489  https://tass.ru/rss/v2.xml  \n",
       "490  https://tass.ru/rss/v2.xml  \n",
       "491  https://tass.ru/rss/v2.xml  \n",
       "492  https://tass.ru/rss/v2.xml  \n",
       "493  https://tass.ru/rss/v2.xml  \n",
       "\n",
       "[494 rows x 3 columns]"
      ]
     },
     "execution_count": 36,
     "metadata": {},
     "output_type": "execute_result"
    }
   ],
   "source": [
    "df = pd.DataFrame(data={'category':category, 'publish_date':publish_date, 'rss_url':rss_url})\n",
    "df"
   ]
  },
  {
   "cell_type": "code",
   "execution_count": 39,
   "id": "a57012d2-1672-48f4-8604-76cd65a78633",
   "metadata": {
    "execution": {
     "iopub.execute_input": "2022-12-13T17:18:58.044718Z",
     "iopub.status.busy": "2022-12-13T17:18:58.044239Z",
     "iopub.status.idle": "2022-12-13T17:18:58.054153Z",
     "shell.execute_reply": "2022-12-13T17:18:58.052747Z",
     "shell.execute_reply.started": "2022-12-13T17:18:58.044654Z"
    },
    "tags": []
   },
   "outputs": [
    {
     "data": {
      "text/plain": [
       "category        object\n",
       "publish_date    object\n",
       "rss_url         object\n",
       "dtype: object"
      ]
     },
     "execution_count": 39,
     "metadata": {},
     "output_type": "execute_result"
    }
   ],
   "source": [
    "df['publish_date1'] = df['publish_date'].astype(date)"
   ]
  },
  {
   "cell_type": "code",
   "execution_count": null,
   "id": "e8f3a62d-4d93-4c00-be21-d730fa459d2f",
   "metadata": {},
   "outputs": [],
   "source": [
    "# Print out feed meta data\n",
    "print(feed.language)\n",
    "print(feed.version)\n",
    "\n",
    "# Iteratively print feed items\n",
    "for item in feed.feed:\n",
    "    print(item.title)\n",
    "    print(item.description)"
   ]
  }
 ],
 "metadata": {
  "kernelspec": {
   "display_name": "Python 3 (ipykernel)",
   "language": "python",
   "name": "python3"
  },
  "language_info": {
   "codemirror_mode": {
    "name": "ipython",
    "version": 3
   },
   "file_extension": ".py",
   "mimetype": "text/x-python",
   "name": "python",
   "nbconvert_exporter": "python",
   "pygments_lexer": "ipython3",
   "version": "3.10.6"
  }
 },
 "nbformat": 4,
 "nbformat_minor": 5
}

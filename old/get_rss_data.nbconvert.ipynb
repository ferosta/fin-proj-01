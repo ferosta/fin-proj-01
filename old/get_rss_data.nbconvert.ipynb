{
 "cells": [
  {
   "cell_type": "code",
   "execution_count": 1,
   "id": "6a99891b-2767-477e-bcc4-bba3142fd564",
   "metadata": {
    "execution": {
     "iopub.execute_input": "2022-12-26T18:49:08.277894Z",
     "iopub.status.busy": "2022-12-26T18:49:08.277291Z",
     "iopub.status.idle": "2022-12-26T18:49:09.187034Z",
     "shell.execute_reply": "2022-12-26T18:49:09.186224Z"
    },
    "tags": []
   },
   "outputs": [],
   "source": [
    "from rss_parser import Parser\n",
    "from requests import get\n",
    "import pandas as pd\n",
    "import os \n",
    "import json\n",
    "import time\n",
    "from datetime import datetime, timezone"
   ]
  },
  {
   "cell_type": "markdown",
   "id": "4990422e-fc88-4d41-9072-12c6bc776773",
   "metadata": {
    "execution": {
     "iopub.execute_input": "2022-12-26T13:24:01.425526Z",
     "iopub.status.busy": "2022-12-26T13:24:01.364450Z",
     "iopub.status.idle": "2022-12-26T13:24:02.598235Z",
     "shell.execute_reply": "2022-12-26T13:24:02.546571Z",
     "shell.execute_reply.started": "2022-12-26T13:24:01.405898Z"
    },
    "tags": []
   },
   "source": [
    "# Конфигурационные настройки"
   ]
  },
  {
   "cell_type": "code",
   "execution_count": 2,
   "id": "1e2951a8-7413-4892-a3d1-7047f1a911cc",
   "metadata": {
    "execution": {
     "iopub.execute_input": "2022-12-26T18:49:09.191570Z",
     "iopub.status.busy": "2022-12-26T18:49:09.191242Z",
     "iopub.status.idle": "2022-12-26T18:49:09.200071Z",
     "shell.execute_reply": "2022-12-26T18:49:09.199342Z"
    },
    "tags": []
   },
   "outputs": [],
   "source": [
    "# логирование\n",
    "# PRJ_DIR = \"\" #'/home/fedorov/mypy/vk_prj/'\n",
    "# if PRJ_DIR not in sys.path:\n",
    "#     sys.path.insert(0, PRJ_DIR)\n",
    "##########################################\n",
    "# логирование\n",
    "import logging\n",
    "import logging.config\n",
    "dictLogConfig = {\n",
    "    \"version\":1,\n",
    "    \"handlers\":{\n",
    "        \"StreamHandler\":{\n",
    "            \"class\":\"logging.StreamHandler\",\n",
    "            \"formatter\":\"myFormatter\"\n",
    "        },\n",
    "        \"GlobalfileHandler\":{\n",
    "            \"class\":\"logging.handlers.RotatingFileHandler\",\n",
    "            \"formatter\":\"myFormatter\",\n",
    "            \"filename\": \"LOG_.LOG\",\n",
    "            \"backupCount\": 10\n",
    "        },\n",
    "        \"fileHandlerDEBUG\":{\n",
    "            \"class\":\"logging.FileHandler\",\n",
    "            \"formatter\":\"myFormatter\",\n",
    "            \"filename\": \"DEBUG.LOG\"\n",
    "        },\n",
    "         \"fileHandlerINFO\":{\n",
    "            \"class\":\"logging.FileHandler\",\n",
    "            \"formatter\":\"myFormatter\",\n",
    "            \"filename\": \"LOG_.LOG\"\n",
    "        },\n",
    "    },\n",
    "    \"loggers\":{\n",
    "        \"DEBUG\":{\n",
    "            \"handlers\":[\"fileHandlerDEBUG\", \"StreamHandler\"],\n",
    "            \"level\":\"DEBUG\",\n",
    "        },\n",
    "        \"INFO\":{\n",
    "            \"handlers\":[\"fileHandlerINFO\", \"GlobalfileHandler\"],\n",
    "            \"level\":\"INFO\",\n",
    "        },\n",
    "        \"WARNING\":{\n",
    "            \"handlers\":[\"fileHandlerINFO\", \"GlobalfileHandler\"],\n",
    "            \"level\":\"WARNING\",\n",
    "        },\n",
    "        \"ERROR\":{\n",
    "            \"handlers\":[\"fileHandlerINFO\", \"GlobalfileHandler\"],\n",
    "            \"level\":\"ERROR\",\n",
    "        },\n",
    "        \"CRITICAL\":{\n",
    "            \"handlers\":[\"fileHandlerINFO\", \"GlobalfileHandler\"],\n",
    "            \"level\":\"CRITICAL\",\n",
    "        }\n",
    "    },\n",
    "    \"formatters\":{\n",
    "        \"myFormatter\":{\n",
    "            \"format\":\"%(asctime)s:%(name)s:%(levelname)s=>%(message)s<=%(filename)s->%(funcName)s[%(lineno)d]\"\n",
    "        }\n",
    "    }\n",
    "}\n",
    "logging.config.dictConfig(dictLogConfig)\n",
    "\n",
    "\n",
    "PROG_NAME = 'GET_RSS_DATA'\n",
    "# logger = logging.getLogger(\"INFO.\"+PROG_NAME)\n",
    "# logger = logging.getLogger(\"INFO.\"+PROG_NAME)\n",
    "logger = logging.getLogger(\"DEBUG.\"+PROG_NAME)"
   ]
  },
  {
   "cell_type": "code",
   "execution_count": 3,
   "id": "b733d7ab-e03a-4c4d-b4a1-07d10018bdc5",
   "metadata": {
    "execution": {
     "iopub.execute_input": "2022-12-26T18:49:09.203249Z",
     "iopub.status.busy": "2022-12-26T18:49:09.203078Z",
     "iopub.status.idle": "2022-12-26T18:49:09.206742Z",
     "shell.execute_reply": "2022-12-26T18:49:09.205909Z"
    },
    "tags": []
   },
   "outputs": [],
   "source": [
    "# конфигурационные настройки\n",
    "config_file_name = os.path.abspath(u'./config/rss_links.csv')\n",
    "data_dir_name = os.path.abspath(u'./data')"
   ]
  },
  {
   "cell_type": "markdown",
   "id": "18d17a85-f14e-4277-8cc7-c1a7c4d18bbf",
   "metadata": {},
   "source": [
    "# Чтение конфига с адресами источников РСС"
   ]
  },
  {
   "cell_type": "code",
   "execution_count": 4,
   "id": "847c1b74-ee66-4bf1-abf9-dd9100a0e0ae",
   "metadata": {
    "execution": {
     "iopub.execute_input": "2022-12-26T18:49:09.210128Z",
     "iopub.status.busy": "2022-12-26T18:49:09.209934Z",
     "iopub.status.idle": "2022-12-26T18:49:09.214533Z",
     "shell.execute_reply": "2022-12-26T18:49:09.213669Z"
    },
    "tags": []
   },
   "outputs": [],
   "source": [
    "# читаем конфиг со ссылками на источники\n",
    "def read_config(config_file_name):\n",
    "    \"\"\"читаем конфиг со ссылками на источники\n",
    "        config_file_name - имя файла с конфигом (если не в локальной директории то с путём)\n",
    "    \"\"\"\n",
    "    df_config = pd.read_csv(config_file_name, header=None  )\n",
    "    rss_urls = list(df_config[0])\n",
    "    logger.debug(f'Ссылки на источники прочитаны из {config_file_name}')\n",
    "    return rss_urls\n",
    "\n",
    "\n",
    "# rss_urls = read_config(config_file_name)\n",
    "# rss_urls"
   ]
  },
  {
   "cell_type": "markdown",
   "id": "61ef5ad2-62d0-4712-b1a4-a525cfd22ac8",
   "metadata": {},
   "source": [
    "# Подготовка первичного хранилища для данных из источников"
   ]
  },
  {
   "cell_type": "code",
   "execution_count": 5,
   "id": "3ea4fba1-4c6b-4e8e-bd5d-0ba78639381e",
   "metadata": {
    "execution": {
     "iopub.execute_input": "2022-12-26T18:49:09.218292Z",
     "iopub.status.busy": "2022-12-26T18:49:09.218132Z",
     "iopub.status.idle": "2022-12-26T18:49:09.223090Z",
     "shell.execute_reply": "2022-12-26T18:49:09.222203Z"
    },
    "tags": []
   },
   "outputs": [],
   "source": [
    "# подготовить: проверить и если надо создать каталог под данные из источника\n",
    "def rss_dir_prepare(rss_url):\n",
    "    \"\"\" Проверить есть ли каталог для данного источника,\n",
    "        Если нет, то создать каталог для сохранения сведений из источника .\n",
    "        rss_url - ссылка на источник из конфиг-файла\n",
    "    \"\"\"\n",
    "    # получаем имя папки с данными из ссылки на источник\n",
    "    rss_dir_name = rss_url.replace(u'https://', \"\").replace(u\"/\",\"|\")\n",
    "    logger.debug(f'Проверяется папка rss_dir_name = {rss_dir_name}')\n",
    "    \n",
    "    # полный путь до папки с данными\n",
    "    rss_full_dir_name = os.path.join(data_dir_name , rss_dir_name ) \n",
    "    rss_abs_dir_name =  os.path.abspath(rss_full_dir_name)\n",
    "    \n",
    "    # если такой папки еще нет - то создаем\n",
    "    if not os.path.exists(rss_abs_dir_name):\n",
    "        os.mkdir(rss_abs_dir_name)\n",
    "        logger.debug(f'Создна папка {rss_abs_dir_name}')\n",
    "    \n",
    "    return rss_abs_dir_name\n",
    "\n",
    "    \n",
    "# rss_url = 'https://lenta.ru/rss/' # rss_urls[0]\n",
    "# rss_dirname = rss_dir_prepare(rss_url)"
   ]
  },
  {
   "cell_type": "markdown",
   "id": "6b93c1c4-29ea-40b8-bada-1e2556f71bd5",
   "metadata": {},
   "source": [
    "# Получение данных из источника по ссылке "
   ]
  },
  {
   "cell_type": "code",
   "execution_count": 6,
   "id": "5ea64357-7f3d-4e7f-a549-2239004d83b0",
   "metadata": {
    "execution": {
     "iopub.execute_input": "2022-12-26T18:49:09.227077Z",
     "iopub.status.busy": "2022-12-26T18:49:09.226856Z",
     "iopub.status.idle": "2022-12-26T18:49:09.231525Z",
     "shell.execute_reply": "2022-12-26T18:49:09.230707Z"
    },
    "tags": []
   },
   "outputs": [],
   "source": [
    "# получение данных из источника по ссылке rss_url \n",
    "def get_rss(url : str):\n",
    "    \"\"\" получение данных из источника по ссылке rss_url \n",
    "        Результат: словарь feed\n",
    "    \"\"\"\n",
    "    # получаем данны из источника - всю порцию,которую он отдает. Настроек по выбору времени там нет!\n",
    "    xml = get(url)\n",
    "    parser = Parser(xml=xml.content  ) \n",
    "    feed = parser.parse()\n",
    "    logger.debug(f'Данные из {url} получены. Кол-во записей: { len( feed.dict()[\"feed\"]) }. Код Ок: {xml.ok}')\n",
    "    return feed.dict()['feed']\n",
    "\n",
    "# rss_url = 'https://lenta.ru/rss/' # rss_urls[0]\n",
    "# rss_feed = get_rss(rss_url)"
   ]
  },
  {
   "cell_type": "markdown",
   "id": "86bce3d6-4b63-4186-9f06-fff131be8e08",
   "metadata": {},
   "source": [
    "# Сохранение полученных из истончика данных в файл"
   ]
  },
  {
   "cell_type": "code",
   "execution_count": 7,
   "id": "ccdbcb0c-e979-44ba-adca-229d9a745567",
   "metadata": {
    "execution": {
     "iopub.execute_input": "2022-12-26T18:49:09.235457Z",
     "iopub.status.busy": "2022-12-26T18:49:09.235293Z",
     "iopub.status.idle": "2022-12-26T18:49:09.242003Z",
     "shell.execute_reply": "2022-12-26T18:49:09.241142Z"
    },
    "tags": []
   },
   "outputs": [],
   "source": [
    "\n",
    "# преобразование даты из строки в datetime с timezone\n",
    "def convert_to_tz_datetime(dt : str): \n",
    "    \"\"\" преобразование даты из строки в datetime с timezone\n",
    "    \"\"\"\n",
    "    # формат даты #'Sat, 24 Dec 2022 09:10:22 +0300'   \n",
    "    fmt = \"%a, %d %b %Y %H:%M:%S %z\" \n",
    "    # код таймзоны\n",
    "    tz = datetime.strptime('+0300', '%z').tzinfo\n",
    "    \n",
    "    rez = datetime.now().astimezone(tz).strptime(dt, fmt)\n",
    "    logger.debug(rez.strftime(fmt) )\n",
    "    return rez\n",
    "\n",
    "\n",
    "# сохранение полученного и распаршенного rss в файл\n",
    "def save_rss_feed(feed_dict : dict, dir_to_save :str):\n",
    "    \"\"\" сохранение полученного и распаршенного rss в файл\n",
    "        вх: rss_feed - словарь с новостями\n",
    "            dir_to_save - путь до директории сохранения\n",
    "    \"\"\"\n",
    "    # формирование имени файла, в который записывается порция данных rss\n",
    "    # текущий таймстамп - для уникального имени файла\n",
    "    now_timestamp = int(datetime.now().timestamp())\n",
    "    \n",
    "    # #даты первой и последней новости в порции рсс\n",
    "    # pub_date_to = convert_to_tz_datetime( rss_feed[0]['publish_date'] )\n",
    "    # pub_date_from = convert_to_tz_datetime( rss_feed[-1]['publish_date'] )\n",
    "\n",
    "    # #имя файла для сохранения порции рсс\n",
    "    # fmt = \"%Y-%m-%d_%H-%M-%S\"\n",
    "    # file_name_dic = {'to':pub_date_to.strftime(fmt), 'from': pub_date_from.strftime(fmt) }\n",
    "    # file_name_str = json.dumps(file_name_dic).replace(\": \",'|')\n",
    "    # file_name_str\n",
    "    \n",
    "    # сохранение полученной порции rss в директорию источника\n",
    "\n",
    "    # полное имя файла для записи\n",
    "    abs_filename = os.path.join(dir_to_save, str(now_timestamp) + '.json')\n",
    "    with open(abs_filename, mode=\"w\") as fp:\n",
    "        json.dump(feed_dict , fp )\n",
    "        logger.debug(f'Rss_feed записан в файл {abs_filename}')\n",
    "    \n",
    "    return abs_filename\n",
    "\n",
    "        \n",
    "# rss_filename = save_rss_feed(rss_feed, rss_dirname)"
   ]
  },
  {
   "cell_type": "markdown",
   "id": "6567dac5-6fce-405e-be63-338db269c78f",
   "metadata": {},
   "source": [
    "# Тест 1: один источник"
   ]
  },
  {
   "cell_type": "code",
   "execution_count": 8,
   "id": "32841dcf-30df-4cb3-b7b0-601ee6b85a11",
   "metadata": {
    "execution": {
     "iopub.execute_input": "2022-12-26T18:49:09.246019Z",
     "iopub.status.busy": "2022-12-26T18:49:09.245780Z",
     "iopub.status.idle": "2022-12-26T18:49:09.250449Z",
     "shell.execute_reply": "2022-12-26T18:49:09.249457Z"
    },
    "tags": []
   },
   "outputs": [],
   "source": [
    "def test_01():\n",
    "    # читаем конфиг с адресами источников РСС\n",
    "    rss_urls = read_config(config_file_name)\n",
    "\n",
    "    # подготавливаем папки для хранения скачиваемых из РСС данных\n",
    "    rss_url = 'https://lenta.ru/rss/' # rss_urls[0]\n",
    "    rss_dirname = rss_dir_prepare(rss_url)\n",
    "\n",
    "    # получаем порцию данных по ссылке\n",
    "    # rss_url = 'https://lenta.ru/rss/' # rss_urls[0]\n",
    "    rss_feed = get_rss(rss_url)\n",
    "\n",
    "    # сохраняем данные в заранее подготовленной папке\n",
    "    rss_filename = save_rss_feed(rss_feed, rss_dirname)"
   ]
  },
  {
   "cell_type": "markdown",
   "id": "30e4e8f2-4aae-4fdf-874f-df4bafc85fa0",
   "metadata": {},
   "source": [
    "# Тест 2: циклический перебор всех источников RSS"
   ]
  },
  {
   "cell_type": "code",
   "execution_count": 9,
   "id": "7108bf18-6176-48d9-a31e-52d04014d50b",
   "metadata": {
    "execution": {
     "iopub.execute_input": "2022-12-26T18:49:09.254788Z",
     "iopub.status.busy": "2022-12-26T18:49:09.254309Z",
     "iopub.status.idle": "2022-12-26T18:49:09.260425Z",
     "shell.execute_reply": "2022-12-26T18:49:09.259467Z"
    },
    "tags": []
   },
   "outputs": [],
   "source": [
    "def test_02():\n",
    "    # читаем конфиг с адресами источников РСС\n",
    "    rss_urls = read_config(config_file_name)\n",
    "\n",
    "    for url in rss_urls:\n",
    "\n",
    "        # подготавливаем папки для хранения скачиваемых из РСС данных\n",
    "        dirname = rss_dir_prepare(url)\n",
    "\n",
    "        # получаем порцию данных по ссылке\n",
    "        feed = get_rss(url)\n",
    "\n",
    "        # сохраняем данные в заранее подготовленной папке\n",
    "        rez_filename = save_rss_feed(feed, dirname)"
   ]
  }
 ],
 "metadata": {
  "kernelspec": {
   "display_name": "Python 3 (ipykernel)",
   "language": "python",
   "name": "python3"
  },
  "language_info": {
   "codemirror_mode": {
    "name": "ipython",
    "version": 3
   },
   "file_extension": ".py",
   "mimetype": "text/x-python",
   "name": "python",
   "nbconvert_exporter": "python",
   "pygments_lexer": "ipython3",
   "version": "3.10.6"
  }
 },
 "nbformat": 4,
 "nbformat_minor": 5
}
